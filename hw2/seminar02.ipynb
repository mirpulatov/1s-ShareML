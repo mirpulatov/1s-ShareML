{
 "cells": [
  {
   "cell_type": "code",
   "execution_count": 6,
   "id": "89c723e3",
   "metadata": {},
   "outputs": [],
   "source": [
    "import numpy as np\n",
    "import matplotlib.pyplot as plt\n",
    "\n",
    "\n",
    "def load_data(path='mnist.npz'): \n",
    "    with np.load(path, allow_pickle=True) as f:  # pylint: disable=unexpected-keyword-arg\n",
    "        x_train, y_train = f['x_train'], f['y_train']\n",
    "        x_test, y_test = f['x_test'], f['y_test']\n",
    "\n",
    "    return (x_train, y_train), (x_test, y_test)"
   ]
  },
  {
   "cell_type": "code",
   "execution_count": 7,
   "id": "94287c66",
   "metadata": {},
   "outputs": [
    {
     "name": "stdout",
     "output_type": "stream",
     "text": [
      "(60000, 28, 28) (60000,)\n"
     ]
    }
   ],
   "source": [
    "# файл может быть скачан по ссылке https://storage.googleapis.com/tensorflow/tf-keras-datasets/mnist.npz\n",
    "(x_train, y_train), (x_test, y_test) = load_data(path='mnist.npz')\n",
    "print(x_train.shape, y_train.shape)"
   ]
  },
  {
   "cell_type": "code",
   "execution_count": 8,
   "id": "7893bcc4",
   "metadata": {},
   "outputs": [
    {
     "name": "stdout",
     "output_type": "stream",
     "text": [
      "label is 3\n"
     ]
    },
    {
     "data": {
      "image/png": "[encoded data removed]",
      "text/plain": [
       "<Figure size 432x288 with 1 Axes>"
      ]
     },
     "metadata": {
      "needs_background": "light"
     },
     "output_type": "display_data"
    }
   ],
   "source": [
    "index = 10\n",
    "\n",
    "print('label is %d' % y_train[index])\n",
    "plt.imshow(x_train[index])\n",
    "plt.show()"
   ]
  },
  {
   "cell_type": "code",
   "execution_count": 9,
   "id": "02667f83",
   "metadata": {},
   "outputs": [],
   "source": [
    "class MyFirstClassifier(object):\n",
    "    def __init__(self):\n",
    "        self.zero_matrix = 0\n",
    "        self.one_matrix = 0\n",
    "        self.two_matrix = 0\n",
    "        self.three_matrix = 0\n",
    "        self.four_matrix = 0\n",
    "        self.five_matrix = 0\n",
    "        self.six_matrix = 0\n",
    "        self.seven_matrix = 0\n",
    "        self.eight_matrix = 0\n",
    "        self.nine_matrix = 0\n",
    "    def fit(self, x_train, y_train):\n",
    "        for i in range(0, 300):\n",
    "            if y_train[i] == 0:\n",
    "                self.zero_matrix = x_train[i]\n",
    "            elif y_train[i] == 1:\n",
    "                self.one_matrix = x_train[i]\n",
    "            elif y_train[i] == 2:\n",
    "                self.two_matrix = x_train[i]\n",
    "            elif y_train[i] == 3:\n",
    "                self.three_matrix = x_train[i]\n",
    "            elif y_train[i] == 4:\n",
    "                self.four_matrix = x_train[i]\n",
    "            elif y_train[i] == 5:\n",
    "                self.five_matrix = x_train[i]\n",
    "            elif y_train[i] == 6:\n",
    "                self.six_matrix = x_train[i]\n",
    "            elif y_train[i] == 7:\n",
    "                self.seven_matrix = x_train[i]\n",
    "            elif y_train[i] == 8:\n",
    "                self.eight_matrix = x_train[i]\n",
    "            elif y_train[i] == 9:\n",
    "                self.nine_matrix = x_train[i]\n",
    "    def predict(self, x_test):\n",
    "        result = []\n",
    "        for i in range(len(x_test)):\n",
    "            temp = []\n",
    "            temp.append(np.sum(self.zero_matrix ** 2 - x_test[i] ** 2)) # 0\n",
    "            temp.append(np.sum(self.one_matrix ** 2 - x_test[i] ** 2)) # 1\n",
    "            temp.append(np.sum(self.two_matrix ** 2 - x_test[i] ** 2)) # 2\n",
    "            temp.append(np.sum(self.three_matrix ** 2 - x_test[i] ** 2)) # 3\n",
    "            temp.append(np.sum(self.four_matrix ** 2 - x_test[i] ** 2)) # 4\n",
    "            temp.append(np.sum(self.five_matrix ** 2 - x_test[i] ** 2)) # 5\n",
    "            temp.append(np.sum(self.six_matrix ** 2 - x_test[i] ** 2)) # 6\n",
    "            temp.append(np.sum(self.seven_matrix ** 2 - x_test[i] ** 2)) # 7\n",
    "            temp.append(np.sum(self.eight_matrix ** 2 - x_test[i] ** 2)) # 8\n",
    "            temp.append(np.sum(self.nine_matrix ** 2 - x_test[i] ** 2)) # 9\n",
    "            result.append(np.argmin(temp))\n",
    "        return result\n",
    "    \n",
    "def accuracy_score(pred, gt):\n",
    "    return np.mean(pred==gt)"
   ]
  },
  {
   "cell_type": "code",
   "execution_count": 10,
   "id": "11f715d8",
   "metadata": {},
   "outputs": [
    {
     "name": "stdout",
     "output_type": "stream",
     "text": [
      "accuracy is 0.4994\n"
     ]
    }
   ],
   "source": [
    "cls = MyFirstClassifier()\n",
    "cls.fit(x_train, y_train)\n",
    "pred = cls.predict(x_test)\n",
    "\n",
    "print('accuracy is %.4f' % accuracy_score(pred, y_test))"
   ]
  },
  {
   "cell_type": "markdown",
   "id": "63fa8e5b",
   "metadata": {},
   "source": [
    "#### Задача"
   ]
  },
  {
   "cell_type": "markdown",
   "id": "66ffdfeb",
   "metadata": {},
   "source": [
    "Реализовать собственный классификатор с точностью не менее 20%"
   ]
  }
 ],
 "metadata": {
  "kernelspec": {
   "display_name": "Python 3.8.13 ('article')",
   "language": "python",
   "name": "python3"
  },
  "language_info": {
   "codemirror_mode": {
    "name": "ipython",
    "version": 3
   },
   "file_extension": ".py",
   "mimetype": "text/x-python",
   "name": "python",
   "nbconvert_exporter": "python",
   "pygments_lexer": "ipython3",
   "version": "3.8.13"
  },
  "vscode": {
   "interpreter": {
    "hash": "a2c5780acc6a1a7032bf798dbdf9a65349f4477246c6308bb1f6d7b31934368c"
   }
  }
 },
 "nbformat": 4,
 "nbformat_minor": 5
}
