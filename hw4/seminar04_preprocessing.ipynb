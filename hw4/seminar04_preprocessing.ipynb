{
 "cells": [
  {
   "cell_type": "markdown",
   "metadata": {},
   "source": [
    "# Семинар №4"
   ]
  },
  {
   "cell_type": "markdown",
   "metadata": {},
   "source": [
    "ФИО: Мирпулатов Исломбек Пулат-угли\n",
    "\n",
    "вуз: МГУ \n",
    "\n",
    "факультет: вычислительной математики и кибернетики\n",
    "\n",
    "курс: 6\n",
    "\n",
    "кафедра (если есть): ИБ\n",
    "\n",
    "научный руководитель (если есть): Матвеев С.А."
   ]
  },
  {
   "cell_type": "markdown",
   "metadata": {},
   "source": [
    "#### Семинар подготовлен с целью ознакомить слушателей с процедурой подготовки данных для алгоритмов машнинного обучения на примере задачи оценки цены недвижимости. Описание данных можно найти в data_description.txt"
   ]
  },
  {
   "cell_type": "markdown",
   "metadata": {},
   "source": [
    "### 1. Считывание данных (1 балл)"
   ]
  },
  {
   "cell_type": "markdown",
   "metadata": {},
   "source": [
    "Считайте данные из файлов train.csv и test.csv в массивы:\n",
    "trainX (содержит признаки обучающего множества)\n",
    "trainY (содержит правильные ответа для обучающего множества)\n",
    "testX (содержит признаки для тестового множества)\n",
    "\n",
    "Первый столбец содержит порядковый номер объекта, поэтому его рекомендуется сразу удалить"
   ]
  },
  {
   "cell_type": "code",
   "execution_count": 1,
   "outputs": [],
   "source": [
    "import pandas as pd"
   ],
   "metadata": {
    "collapsed": false
   }
  },
  {
   "cell_type": "code",
   "execution_count": 2,
   "outputs": [
    {
     "name": "stdout",
     "output_type": "stream",
     "text": [
      "(1460, 79) (1460,) (1459, 79)\n"
     ]
    }
   ],
   "source": [
    "train_df = pd.read_csv('train.csv').drop('Id', axis=1)\n",
    "test_df = pd.read_csv('test.csv').drop('Id', axis=1)\n",
    "trainY = train_df['SalePrice']\n",
    "trainX = train_df.drop('SalePrice', axis=1)\n",
    "testX = test_df\n",
    "print(trainX.shape, trainY.shape, testX.shape)"
   ],
   "metadata": {
    "collapsed": false
   }
  },
  {
   "cell_type": "code",
   "execution_count": 3,
   "metadata": {},
   "outputs": [
    {
     "name": "stdout",
     "output_type": "stream",
     "text": [
      "MSSubClass           60\n",
      "MSZoning             RL\n",
      "LotFrontage        65.0\n",
      "LotArea            8450\n",
      "Street             Pave\n",
      "                  ...  \n",
      "MiscVal               0\n",
      "MoSold                2\n",
      "YrSold             2008\n",
      "SaleType             WD\n",
      "SaleCondition    Normal\n",
      "Name: 0, Length: 79, dtype: object\n"
     ]
    }
   ],
   "source": [
    "print(trainX.iloc[0])"
   ]
  },
  {
   "cell_type": "markdown",
   "metadata": {},
   "source": [
    "### 2. Предварительная обработка данных"
   ]
  },
  {
   "cell_type": "markdown",
   "metadata": {},
   "source": [
    "Как правило \"реальные\" данные содержат пропущенные значения и прочие нечисловые признаки, поэтому прежде чем запустить методы fit и  predict модели, необходимо сделать все признаки числовыми."
   ]
  },
  {
   "cell_type": "markdown",
   "metadata": {},
   "source": [
    "#### 2.1 Обработка пропущенных значений (2 балла)"
   ]
  },
  {
   "cell_type": "markdown",
   "metadata": {},
   "source": [
    "Изучите раздел документации https://scikit-learn.org/stable/modules/impute.html#impute и параметры классов SimpleImputer и MissingIndicator"
   ]
  },
  {
   "cell_type": "code",
   "execution_count": 4,
   "metadata": {},
   "outputs": [],
   "source": [
    "from sklearn.impute import MissingIndicator, SimpleImputer\n",
    "import numpy as np"
   ]
  },
  {
   "cell_type": "code",
   "execution_count": 5,
   "metadata": {},
   "outputs": [
    {
     "name": "stdout",
     "output_type": "stream",
     "text": [
      "6965\n",
      "7000\n"
     ]
    }
   ],
   "source": [
    "indicator = MissingIndicator()\n",
    "train_mask_missing_values_only = indicator.fit_transform(trainX)\n",
    "test_mask_missing_values_only = indicator.fit_transform(testX)\n",
    "print(np.sum(train_mask_missing_values_only))\n",
    "print(np.sum(test_mask_missing_values_only))"
   ]
  },
  {
   "cell_type": "markdown",
   "metadata": {},
   "source": [
    "В данных были обнаружены пропущенные значение. \n",
    "При помощи класса MissingIndicator устраните пропущенные значения, использовав самый часто встречаемый элемент."
   ]
  },
  {
   "cell_type": "code",
   "execution_count": 6,
   "metadata": {},
   "outputs": [],
   "source": [
    "replacer = SimpleImputer(missing_values=np.nan, strategy='most_frequent')\n",
    "\n",
    "trainX_without_missing = replacer.fit_transform(trainX)\n",
    "testX_without_missing = replacer.fit_transform(testX)"
   ]
  },
  {
   "cell_type": "code",
   "execution_count": 7,
   "metadata": {},
   "outputs": [
    {
     "name": "stdout",
     "output_type": "stream",
     "text": [
      "0\n",
      "0\n"
     ]
    }
   ],
   "source": [
    "indicator = MissingIndicator()\n",
    "train_mask_missing_values_only = indicator.fit_transform(trainX_without_missing)\n",
    "test_mask_missing_values_only = indicator.fit_transform(testX_without_missing)\n",
    "print(np.sum(train_mask_missing_values_only))\n",
    "print(np.sum(test_mask_missing_values_only))"
   ]
  },
  {
   "cell_type": "markdown",
   "metadata": {},
   "source": [
    "Пропущенные значения удалены."
   ]
  },
  {
   "cell_type": "code",
   "execution_count": 8,
   "metadata": {},
   "outputs": [
    {
     "name": "stdout",
     "output_type": "stream",
     "text": [
      "[60 'RL' 65.0 8450 'Pave' 'Grvl' 'Reg' 'Lvl' 'AllPub' 'Inside' 'Gtl'\n",
      " 'CollgCr' 'Norm' 'Norm' '1Fam' '2Story' 7 5 2003 2003 'Gable' 'CompShg'\n",
      " 'VinylSd' 'VinylSd' 'BrkFace' 196.0 'Gd' 'TA' 'PConc' 'Gd' 'TA' 'No'\n",
      " 'GLQ' 706 'Unf' 0 150 856 'GasA' 'Ex' 'Y' 'SBrkr' 856 854 0 1710 1 0 2 1\n",
      " 3 1 'Gd' 8 'Typ' 0 'Gd' 'Attchd' 2003.0 'RFn' 2 548 'TA' 'TA' 'Y' 0 61 0\n",
      " 0 0 0 'Gd' 'MnPrv' 'Shed' 0 2 2008 'WD' 'Normal']\n"
     ]
    }
   ],
   "source": [
    "print(trainX_without_missing[0])"
   ]
  },
  {
   "cell_type": "markdown",
   "metadata": {},
   "source": [
    "#### 2.2  Обработка категориальных значений (2 балла)"
   ]
  },
  {
   "cell_type": "markdown",
   "metadata": {},
   "source": [
    "Изучите раздел документации https://scikit-learn.org/stable/modules/preprocessing.html#encoding-categorical-features\n",
    "\n",
    "При помощи класса OrdinalEncoder удалите категориальные признаки."
   ]
  },
  {
   "cell_type": "code",
   "execution_count": 9,
   "outputs": [],
   "source": [
    "from sklearn.preprocessing import OrdinalEncoder"
   ],
   "metadata": {
    "collapsed": false
   }
  },
  {
   "cell_type": "code",
   "execution_count": 10,
   "metadata": {},
   "outputs": [],
   "source": [
    "enc = OrdinalEncoder()\n",
    "trainX_without_missing_and_cat = enc.fit_transform(trainX_without_missing)\n",
    "testX_without_missing_and_cat = enc.fit_transform(testX_without_missing)"
   ]
  },
  {
   "cell_type": "code",
   "execution_count": 11,
   "outputs": [
    {
     "name": "stdout",
     "output_type": "stream",
     "text": [
      "[  5.   3.  36. 327.   1.   0.   3.   3.   0.   4.   0.   5.   2.   2.\n",
      "   0.   5.   6.   4. 104.  53.   1.   1.  12.  13.   1. 128.   2.   4.\n",
      "   2.   2.   3.   3.   2. 361.   5.   0.  73. 179.   1.   0.   1.   4.\n",
      " 134. 232.   0. 531.   1.   0.   2.   1.   3.   1.   2.   6.   6.   0.\n",
      "   2.   1.  89.   1.   2. 220.   4.   4.   2.   0.  49.   0.   0.   0.\n",
      "   0.   2.   2.   2.   0.   1.   2.   8.   4.]\n"
     ]
    }
   ],
   "source": [
    "print(trainX_without_missing_and_cat[0])"
   ],
   "metadata": {
    "collapsed": false
   }
  },
  {
   "cell_type": "code",
   "execution_count": 12,
   "metadata": {},
   "outputs": [
    {
     "name": "stdout",
     "output_type": "stream",
     "text": [
      "[  5.   3.  36. 327.   1.   0.   3.   3.   0.   4.   0.   5.   2.   2.\n",
      "   0.   5.   6.   4. 104.  53.   1.   1.  12.  13.   1. 128.   2.   4.\n",
      "   2.   2.   3.   3.   2. 361.   5.   0.  73. 179.   1.   0.   1.   4.\n",
      " 134. 232.   0. 531.   1.   0.   2.   1.   3.   1.   2.   6.   6.   0.\n",
      "   2.   1.  89.   1.   2. 220.   4.   4.   2.   0.  49.   0.   0.   0.\n",
      "   0.   2.   2.   2.   0.   1.   2.   8.   4.]\n"
     ]
    }
   ],
   "source": [
    "print(trainX_without_missing_and_cat[0])"
   ]
  },
  {
   "cell_type": "markdown",
   "metadata": {},
   "source": [
    "Теперь данные готовы для обучения моделей"
   ]
  },
  {
   "cell_type": "markdown",
   "metadata": {},
   "source": [
    "Опишите достоинства и недостатки данного метода обработки категориальных признаков"
   ]
  },
  {
   "cell_type": "markdown",
   "metadata": {},
   "source": [
    "ваш ответ\n"
   ]
  },
  {
   "cell_type": "markdown",
   "metadata": {},
   "source": [
    "### 3. Разделение данных на обучение и валидацию (1 балл)"
   ]
  },
  {
   "cell_type": "markdown",
   "metadata": {},
   "source": [
    "Разделите обучающее множество на обучение(75%) и валидацию(25%), воспользовавшись функцией train_test_split с random_state=42"
   ]
  },
  {
   "cell_type": "code",
   "execution_count": 13,
   "metadata": {},
   "outputs": [],
   "source": [
    "from sklearn.model_selection import train_test_split"
   ]
  },
  {
   "cell_type": "code",
   "execution_count": 14,
   "outputs": [],
   "source": [
    "X_train, X_val, y_train, y_val = train_test_split(\n",
    "    trainX_without_missing_and_cat, trainY, test_size=0.25, random_state=42)"
   ],
   "metadata": {
    "collapsed": false
   }
  },
  {
   "cell_type": "code",
   "execution_count": 15,
   "metadata": {},
   "outputs": [
    {
     "name": "stdout",
     "output_type": "stream",
     "text": [
      "(1095, 79) (365, 79) (1095,) (365,)\n"
     ]
    }
   ],
   "source": [
    "print(X_train.shape, X_val.shape, y_train.shape, y_val.shape)"
   ]
  },
  {
   "cell_type": "markdown",
   "metadata": {},
   "source": [
    "### 4. Обучение моделей (4 балла)"
   ]
  },
  {
   "cell_type": "markdown",
   "metadata": {},
   "source": [
    "Данные готовы для обучения алгоритмов машинного обучения. В качестве базовой можеди возьмём линейную регрессию, меткрика качества - mean_squared_log_error"
   ]
  },
  {
   "cell_type": "code",
   "execution_count": 16,
   "metadata": {},
   "outputs": [],
   "source": [
    "from sklearn.linear_model import LinearRegression, Lasso\n",
    "from sklearn.metrics import mean_squared_log_error"
   ]
  },
  {
   "cell_type": "code",
   "execution_count": 17,
   "outputs": [
    {
     "name": "stdout",
     "output_type": "stream",
     "text": [
      "0.3817497024775915\n"
     ]
    }
   ],
   "source": [
    "lr = LinearRegression()\n",
    "lr.fit(X_train, y_train)\n",
    "y_pred = lr.predict(X_val)\n",
    "y_pred[y_pred < 0.0] = 0.0\n",
    "\n",
    "print(mean_squared_log_error(y_val, y_pred))"
   ],
   "metadata": {
    "collapsed": false
   }
  },
  {
   "cell_type": "markdown",
   "metadata": {},
   "source": [
    "Текущую модель можно существенно улучшить. Добейтесь на валидации ошибки меньше 0.03 без каких-либо ограничений на алгоритмы"
   ]
  },
  {
   "cell_type": "code",
   "execution_count": 18,
   "outputs": [],
   "source": [
    "from sklearn.ensemble import GradientBoostingRegressor"
   ],
   "metadata": {
    "collapsed": false
   }
  },
  {
   "cell_type": "code",
   "execution_count": 19,
   "metadata": {},
   "outputs": [
    {
     "name": "stdout",
     "output_type": "stream",
     "text": [
      "0.018839361261810652\n"
     ]
    }
   ],
   "source": [
    "gb = GradientBoostingRegressor(random_state=42)\n",
    "gb.fit(X_train, y_train)\n",
    "y_pred = gb.predict(X_val)\n",
    "y_pred[y_pred < 0.0] = 0.0\n",
    "\n",
    "print(mean_squared_log_error(y_val, y_pred))"
   ]
  },
  {
   "cell_type": "markdown",
   "metadata": {},
   "source": [
    "### 5. Способы улучшения качества модели"
   ]
  },
  {
   "cell_type": "markdown",
   "metadata": {},
   "source": [
    "1. Применить другую стратегию обработки пропущенных значений из scikit-learn (1 балл + 1 балл, если получили прирост качества для алгоритма с ошибкой меньше 0.03 )\n",
    "\n",
    "2. Добавить бинарные признаки отсутствия/присутствия значения для столбцов, где есть пропущенные значения (1 балл)\n",
    "\n",
    "3. Реализовать самостоятельно одну из стратегий обработки пропущенных значений из семинара (начиная с kNN) (2 балла)\n",
    "\n",
    "4. Применить стратегию OneHotEncoder для обработки категориальных признаков (2 балла)\n",
    "\n",
    "5. Применить стратегию агрегированния данных для обработки категориальных признаков (2 балла)"
   ]
  },
  {
   "cell_type": "markdown",
   "metadata": {},
   "source": [
    "Реализуйте не менее двух идей из предложенных выше"
   ]
  },
  {
   "cell_type": "markdown",
   "source": [
    "1. Применить другую стратегию обработки пропущенных значений из scikit-learn (1 балл + 1 балл, если получили прирост качества для алгоритма с ошибкой меньше 0.03 )\n"
   ],
   "metadata": {
    "collapsed": false
   }
  },
  {
   "cell_type": "code",
   "execution_count": 45,
   "outputs": [],
   "source": [
    "from sklearn.impute import KNNImputer"
   ],
   "metadata": {
    "collapsed": false
   }
  },
  {
   "cell_type": "code",
   "execution_count": 56,
   "outputs": [
    {
     "name": "stdout",
     "output_type": "stream",
     "text": [
      "(1460, 79) (1460,) (1459, 79)\n"
     ]
    }
   ],
   "source": [
    "train_df = pd.read_csv('train.csv').drop('Id', axis=1)\n",
    "test_df = pd.read_csv('test.csv').drop('Id', axis=1)\n",
    "trainY = train_df['SalePrice']\n",
    "trainX = train_df.drop('SalePrice', axis=1)\n",
    "testX = test_df\n",
    "print(trainX.shape, trainY.shape, testX.shape)"
   ],
   "metadata": {
    "collapsed": false
   }
  },
  {
   "cell_type": "code",
   "execution_count": 57,
   "outputs": [],
   "source": [
    "enc = OrdinalEncoder()\n",
    "trainX_encoded = enc.fit_transform(trainX)"
   ],
   "metadata": {
    "collapsed": false
   }
  },
  {
   "cell_type": "code",
   "execution_count": 58,
   "outputs": [],
   "source": [
    "replacer = KNNImputer(n_neighbors=4)\n",
    "trainX_without_missing = replacer.fit_transform(trainX_encoded)"
   ],
   "metadata": {
    "collapsed": false
   }
  },
  {
   "cell_type": "code",
   "execution_count": 59,
   "outputs": [],
   "source": [
    "X_train, X_val, y_train, y_val = train_test_split(\n",
    "    trainX_without_missing, trainY, test_size=0.25, random_state=42)"
   ],
   "metadata": {
    "collapsed": false
   }
  },
  {
   "cell_type": "code",
   "execution_count": 60,
   "outputs": [
    {
     "name": "stdout",
     "output_type": "stream",
     "text": [
      "0.01720882139210635\n"
     ]
    }
   ],
   "source": [
    "gb = GradientBoostingRegressor(max_depth=5, random_state=42)\n",
    "gb.fit(X_train, y_train)\n",
    "y_pred = gb.predict(X_val)\n",
    "y_pred[y_pred < 0.0] = 0.0\n",
    "\n",
    "print(mean_squared_log_error(y_val, y_pred))"
   ],
   "metadata": {
    "collapsed": false
   }
  },
  {
   "cell_type": "markdown",
   "source": [
    "2. Добавить бинарные признаки отсутствия/присутствия значения для столбцов, где есть пропущенные значения (1 балл)"
   ],
   "metadata": {
    "collapsed": false
   }
  },
  {
   "cell_type": "code",
   "execution_count": 139,
   "outputs": [
    {
     "name": "stdout",
     "output_type": "stream",
     "text": [
      "(1460, 79) (1460,) (1459, 79)\n"
     ]
    }
   ],
   "source": [
    "train_df = pd.read_csv('train.csv').drop('Id', axis=1)\n",
    "test_df = pd.read_csv('test.csv').drop('Id', axis=1)\n",
    "trainY = train_df['SalePrice']\n",
    "trainX = train_df.drop('SalePrice', axis=1)\n",
    "testX = test_df\n",
    "print(trainX.shape, trainY.shape, testX.shape)"
   ],
   "metadata": {
    "collapsed": false
   }
  },
  {
   "cell_type": "code",
   "execution_count": 140,
   "outputs": [],
   "source": [
    "enc = OrdinalEncoder()\n",
    "trainX_encoded = enc.fit_transform(trainX)"
   ],
   "metadata": {
    "collapsed": false
   }
  },
  {
   "cell_type": "code",
   "execution_count": 141,
   "outputs": [],
   "source": [
    "trainX_encoded = np.c_[trainX_encoded, np.zeros(trainX_encoded.shape[0])]"
   ],
   "metadata": {
    "collapsed": false
   }
  },
  {
   "cell_type": "code",
   "execution_count": 142,
   "outputs": [
    {
     "data": {
      "text/plain": "(1460, 80)"
     },
     "execution_count": 142,
     "metadata": {},
     "output_type": "execute_result"
    }
   ],
   "source": [
    "trainX_encoded.shape"
   ],
   "metadata": {
    "collapsed": false
   }
  },
  {
   "cell_type": "code",
   "execution_count": 143,
   "outputs": [],
   "source": [
    "for i in range(trainX_encoded.shape[0]):\n",
    "    if True in np.isnan(trainX_encoded[i]):\n",
    "        trainX_encoded[i][79] = 1"
   ],
   "metadata": {
    "collapsed": false
   }
  },
  {
   "cell_type": "code",
   "execution_count": 144,
   "outputs": [],
   "source": [
    "replacer = KNNImputer(n_neighbors=4)\n",
    "trainX_without_missing = replacer.fit_transform(trainX_encoded)"
   ],
   "metadata": {
    "collapsed": false
   }
  },
  {
   "cell_type": "code",
   "execution_count": 145,
   "outputs": [],
   "source": [
    "X_train, X_val, y_train, y_val = train_test_split(\n",
    "    trainX_without_missing, trainY, test_size=0.25, random_state=42)"
   ],
   "metadata": {
    "collapsed": false
   }
  },
  {
   "cell_type": "code",
   "execution_count": 146,
   "outputs": [
    {
     "name": "stdout",
     "output_type": "stream",
     "text": [
      "0.01711084127050903\n"
     ]
    }
   ],
   "source": [
    "gb = GradientBoostingRegressor(max_depth=5, random_state=42)\n",
    "gb.fit(X_train, y_train)\n",
    "y_pred = gb.predict(X_val)\n",
    "y_pred[y_pred < 0.0] = 0.0\n",
    "\n",
    "print(mean_squared_log_error(y_val, y_pred))"
   ],
   "metadata": {
    "collapsed": false
   }
  },
  {
   "cell_type": "markdown",
   "source": [
    "4. Применить стратегию OneHotEncoder для обработки категориальных признаков (2 балла)"
   ],
   "metadata": {
    "collapsed": false
   }
  },
  {
   "cell_type": "code",
   "execution_count": 92,
   "outputs": [],
   "source": [
    "from sklearn.preprocessing import OneHotEncoder"
   ],
   "metadata": {
    "collapsed": false
   }
  },
  {
   "cell_type": "code",
   "execution_count": 93,
   "outputs": [
    {
     "name": "stdout",
     "output_type": "stream",
     "text": [
      "(1460, 79) (1460,) (1459, 79)\n"
     ]
    }
   ],
   "source": [
    "train_df = pd.read_csv('train.csv').drop('Id', axis=1)\n",
    "test_df = pd.read_csv('test.csv').drop('Id', axis=1)\n",
    "trainY = train_df['SalePrice']\n",
    "trainX = train_df.drop('SalePrice', axis=1)\n",
    "testX = test_df\n",
    "print(trainX.shape, trainY.shape, testX.shape)"
   ],
   "metadata": {
    "collapsed": false
   }
  },
  {
   "cell_type": "code",
   "execution_count": 96,
   "outputs": [],
   "source": [
    "enc = OneHotEncoder(sparse=False)\n",
    "trainX_encoded = enc.fit_transform(trainX)"
   ],
   "metadata": {
    "collapsed": false
   }
  },
  {
   "cell_type": "code",
   "execution_count": 97,
   "outputs": [],
   "source": [
    "replacer = KNNImputer(n_neighbors=4)\n",
    "trainX_without_missing = replacer.fit_transform(trainX_encoded)"
   ],
   "metadata": {
    "collapsed": false
   }
  },
  {
   "cell_type": "code",
   "execution_count": 98,
   "outputs": [],
   "source": [
    "X_train, X_val, y_train, y_val = train_test_split(\n",
    "    trainX_without_missing, trainY, test_size=0.25, random_state=42)"
   ],
   "metadata": {
    "collapsed": false
   }
  },
  {
   "cell_type": "code",
   "execution_count": 99,
   "outputs": [
    {
     "name": "stdout",
     "output_type": "stream",
     "text": [
      "0.029451884513150617\n"
     ]
    }
   ],
   "source": [
    "gb = GradientBoostingRegressor(max_depth=5, random_state=42)\n",
    "gb.fit(X_train, y_train)\n",
    "y_pred = gb.predict(X_val)\n",
    "y_pred[y_pred < 0.0] = 0.0\n",
    "\n",
    "print(mean_squared_log_error(y_val, y_pred))"
   ],
   "metadata": {
    "collapsed": false
   }
  },
  {
   "cell_type": "markdown",
   "source": [],
   "metadata": {
    "collapsed": false
   }
  }
 ],
 "metadata": {
  "kernelspec": {
   "display_name": "Python 3 (ipykernel)",
   "language": "python",
   "name": "python3"
  },
  "language_info": {
   "codemirror_mode": {
    "name": "ipython",
    "version": 3
   },
   "file_extension": ".py",
   "mimetype": "text/x-python",
   "name": "python",
   "nbconvert_exporter": "python",
   "pygments_lexer": "ipython3",
   "version": "3.9.7"
  }
 },
 "nbformat": 4,
 "nbformat_minor": 2
}
