{
 "cells": [
  {
   "cell_type": "code",
   "execution_count": 4,
   "metadata": {},
   "outputs": [],
   "source": [
    "import sklearn"
   ]
  },
  {
   "cell_type": "code",
   "execution_count": 2,
   "metadata": {},
   "outputs": [],
   "source": [
    "y_true = [-1, -1, -1, -1, -1, -1, -1, 1, -1, 1]\n",
    "y_pred = [1, -1, -1, -1, -1, 1, 1, -1, -1, 1]"
   ]
  },
  {
   "cell_type": "markdown",
   "metadata": {},
   "source": [
    "acc,tpr,fpr,tnr,fnr,prec,rec,f1\n",
    "0.6,0.5,0.375,0.375,0.5,0.25,0.5,0.3333333333333333"
   ]
  },
  {
   "cell_type": "code",
   "execution_count": 9,
   "metadata": {},
   "outputs": [
    {
     "data": {
      "text/plain": [
       "0.6"
      ]
     },
     "execution_count": 9,
     "metadata": {},
     "output_type": "execute_result"
    }
   ],
   "source": [
    "sklearn.metrics.accuracy_score(y_true, y_pred)"
   ]
  },
  {
   "cell_type": "code",
   "execution_count": 7,
   "metadata": {},
   "outputs": [],
   "source": [
    "fpr, tpr, thresholds = sklearn.metrics.roc_curve(y_true, y_pred, pos_label=+1)\n",
    "fnr, tnr, thresholds = sklearn.metrics.roc_curve(y_true, y_pred, pos_label=-1)"
   ]
  },
  {
   "cell_type": "code",
   "execution_count": 8,
   "metadata": {},
   "outputs": [
    {
     "name": "stdout",
     "output_type": "stream",
     "text": [
      "[0.  0.5 1. ]\n",
      "[0.    0.375 1.   ]\n",
      "[0.    0.375 1.   ]\n",
      "[0.  0.5 1. ]\n"
     ]
    }
   ],
   "source": [
    "print(tpr)\n",
    "print(fpr)\n",
    "print(tnr)\n",
    "print(fnr)"
   ]
  },
  {
   "cell_type": "code",
   "execution_count": 16,
   "metadata": {},
   "outputs": [
    {
     "data": {
      "text/plain": [
       "0.25"
      ]
     },
     "execution_count": 16,
     "metadata": {},
     "output_type": "execute_result"
    }
   ],
   "source": [
    "sklearn.metrics.precision_score(y_true, y_pred)"
   ]
  },
  {
   "cell_type": "code",
   "execution_count": 15,
   "metadata": {},
   "outputs": [
    {
     "data": {
      "text/plain": [
       "0.5"
      ]
     },
     "execution_count": 15,
     "metadata": {},
     "output_type": "execute_result"
    }
   ],
   "source": [
    "sklearn.metrics.recall_score(y_true, y_pred)"
   ]
  },
  {
   "cell_type": "code",
   "execution_count": 14,
   "metadata": {},
   "outputs": [
    {
     "data": {
      "text/plain": [
       "0.3333333333333333"
      ]
     },
     "execution_count": 14,
     "metadata": {},
     "output_type": "execute_result"
    }
   ],
   "source": [
    "sklearn.metrics.f1_score(y_true, y_pred)"
   ]
  },
  {
   "cell_type": "code",
   "execution_count": 18,
   "metadata": {},
   "outputs": [],
   "source": [
    "classes_order = [+1, -1]"
   ]
  },
  {
   "cell_type": "code",
   "execution_count": 19,
   "metadata": {},
   "outputs": [
    {
     "name": "stdout",
     "output_type": "stream",
     "text": [
      "[[1 3]\n",
      " [1 5]]\n"
     ]
    }
   ],
   "source": [
    "CM = sklearn.metrics.confusion_matrix(y_true, y_pred, labels=classes_order)\n",
    "CM = CM.T # По умолчанию строки соотв. правильным ответам, а столбцы - ответам алгоритма\n",
    "print(CM)"
   ]
  },
  {
   "cell_type": "code",
   "execution_count": 20,
   "metadata": {},
   "outputs": [
    {
     "name": "stdout",
     "output_type": "stream",
     "text": [
      "tp=1, fp=3, fn=1, tn=5\n"
     ]
    }
   ],
   "source": [
    "tp, fp, fn, tn = CM.ravel()\n",
    "print(f'tp={tp}, fp={fp}, fn={fn}, tn={tn}')"
   ]
  },
  {
   "cell_type": "code",
   "execution_count": 26,
   "metadata": {},
   "outputs": [
    {
     "name": "stdout",
     "output_type": "stream",
     "text": [
      "accuracy 0.6\n"
     ]
    }
   ],
   "source": [
    "print(\"accuracy\", (tp+tn)/(tp+tn+fp+fn))"
   ]
  },
  {
   "cell_type": "code",
   "execution_count": 25,
   "metadata": {},
   "outputs": [
    {
     "name": "stdout",
     "output_type": "stream",
     "text": [
      "precision 0.25\n"
     ]
    }
   ],
   "source": [
    "print(\"precision\", tp/(tp+fp))"
   ]
  },
  {
   "cell_type": "code",
   "execution_count": 24,
   "metadata": {},
   "outputs": [
    {
     "name": "stdout",
     "output_type": "stream",
     "text": [
      "recall 0.5\n"
     ]
    }
   ],
   "source": [
    "print(\"recall\", tp/(tp+fn))"
   ]
  },
  {
   "cell_type": "code",
   "execution_count": 27,
   "metadata": {},
   "outputs": [
    {
     "name": "stdout",
     "output_type": "stream",
     "text": [
      "tpr 0.5\n",
      "fnr 0.5\n",
      "tnr 0.625\n",
      "fpr 0.375\n"
     ]
    }
   ],
   "source": [
    "print(\"tpr\",  tp / (tp + fn))\n",
    "print(\"fnr\",  fn / (tp + fn))\n",
    "print(\"tnr\",  tn / (tn + fp))\n",
    "print(\"fpr\",  fp / (tn + fp))"
   ]
  }
 ],
 "metadata": {
  "kernelspec": {
   "display_name": "Python 3.8.13 ('msu')",
   "language": "python",
   "name": "python3"
  },
  "language_info": {
   "codemirror_mode": {
    "name": "ipython",
    "version": 3
   },
   "file_extension": ".py",
   "mimetype": "text/x-python",
   "name": "python",
   "nbconvert_exporter": "python",
   "pygments_lexer": "ipython3",
   "version": "3.8.13"
  },
  "orig_nbformat": 4,
  "vscode": {
   "interpreter": {
    "hash": "12de6ce6501c30f5c9e52e5e7f09152a89a0fbd6cf3b954d8a7f2148703fe02a"
   }
  }
 },
 "nbformat": 4,
 "nbformat_minor": 2
}
